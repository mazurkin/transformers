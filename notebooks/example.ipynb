{
 "cells": [
  {
   "cell_type": "code",
   "execution_count": 1,
   "id": "5ae4d9f5-61ad-465e-866e-7c42a704bcb3",
   "metadata": {},
   "outputs": [],
   "source": [
    "from transformers import pipeline"
   ]
  },
  {
   "cell_type": "code",
   "execution_count": 5,
   "id": "0b3ce040-7204-468a-9ad0-6fa59b64aae4",
   "metadata": {},
   "outputs": [
    {
     "name": "stderr",
     "output_type": "stream",
     "text": [
      "No model was supplied, defaulted to distilbert/distilbert-base-uncased-finetuned-sst-2-english and revision af0f99b (https://huggingface.co/distilbert/distilbert-base-uncased-finetuned-sst-2-english).\n",
      "Using a pipeline without specifying a model name and revision in production is not recommended.\n"
     ]
    }
   ],
   "source": [
    "classifier = pipeline(\"sentiment-analysis\", device=\"cuda\")"
   ]
  },
  {
   "cell_type": "code",
   "execution_count": 6,
   "id": "8216a73f-b66c-4300-aaca-c59cf019d13e",
   "metadata": {},
   "outputs": [
    {
     "data": {
      "text/plain": [
       "[{'label': 'POSITIVE', 'score': 0.9997795224189758}]"
      ]
     },
     "execution_count": 6,
     "metadata": {},
     "output_type": "execute_result"
    }
   ],
   "source": [
    "classifier(\"We are very happy to show you the 🤗 Transformers library.\")"
   ]
  },
  {
   "cell_type": "code",
   "execution_count": 7,
   "id": "dbf282fe-7f00-413a-baaa-c98404e8987c",
   "metadata": {},
   "outputs": [],
   "source": [
    "results = classifier([\n",
    "    \"We are very happy to show you the 🤗 Transformers library.\", \n",
    "    \"We hope you don't hate it.\"\n",
    "])"
   ]
  },
  {
   "cell_type": "code",
   "execution_count": 8,
   "id": "09b05591-e198-4fda-87a0-b7dfcfa10ba8",
   "metadata": {},
   "outputs": [
    {
     "name": "stdout",
     "output_type": "stream",
     "text": [
      "label: POSITIVE, with score: 0.9998\n",
      "label: NEGATIVE, with score: 0.5309\n"
     ]
    }
   ],
   "source": [
    "for result in results:\n",
    "    print(f\"label: {result['label']}, with score: {round(result['score'], 4)}\")"
   ]
  },
  {
   "cell_type": "code",
   "execution_count": 9,
   "id": "aeef6785-eb6b-4b84-a4c7-8c31ef2e2ab4",
   "metadata": {},
   "outputs": [
    {
     "name": "stderr",
     "output_type": "stream",
     "text": [
      "Some weights of the model checkpoint at facebook/wav2vec2-base-960h were not used when initializing Wav2Vec2ForCTC: ['wav2vec2.encoder.pos_conv_embed.conv.weight_g', 'wav2vec2.encoder.pos_conv_embed.conv.weight_v']\n",
      "- This IS expected if you are initializing Wav2Vec2ForCTC from the checkpoint of a model trained on another task or with another architecture (e.g. initializing a BertForSequenceClassification model from a BertForPreTraining model).\n",
      "- This IS NOT expected if you are initializing Wav2Vec2ForCTC from the checkpoint of a model that you expect to be exactly identical (initializing a BertForSequenceClassification model from a BertForSequenceClassification model).\n",
      "Some weights of Wav2Vec2ForCTC were not initialized from the model checkpoint at facebook/wav2vec2-base-960h and are newly initialized: ['wav2vec2.encoder.pos_conv_embed.conv.parametrizations.weight.original0', 'wav2vec2.encoder.pos_conv_embed.conv.parametrizations.weight.original1', 'wav2vec2.masked_spec_embed']\n",
      "You should probably TRAIN this model on a down-stream task to be able to use it for predictions and inference.\n"
     ]
    }
   ],
   "source": [
    "speech_recognizer = pipeline(\"automatic-speech-recognition\", model=\"facebook/wav2vec2-base-960h\", device=\"cuda\")"
   ]
  },
  {
   "cell_type": "code",
   "execution_count": 10,
   "id": "263f1975-d07a-4ede-a473-2c588a800395",
   "metadata": {},
   "outputs": [],
   "source": [
    "from datasets import load_dataset, Audio\n",
    "\n",
    "dataset = load_dataset(\"PolyAI/minds14\", name=\"en-US\", split=\"train\")"
   ]
  },
  {
   "cell_type": "code",
   "execution_count": 11,
   "id": "b1c7d099-0e2d-447f-bffc-173c95e614a6",
   "metadata": {},
   "outputs": [],
   "source": [
    "dataset = dataset.cast_column(\"audio\", Audio(sampling_rate=speech_recognizer.feature_extractor.sampling_rate))"
   ]
  },
  {
   "cell_type": "code",
   "execution_count": 13,
   "id": "91c7e3f3-bb47-48c5-8d58-932b0e4973ac",
   "metadata": {},
   "outputs": [
    {
     "data": {
      "text/plain": [
       "[{'path': '/home/nick/.cache/huggingface/datasets/downloads/extracted/ded84bbb939d89ec93cc76025c236988a3230491b05beac5f7ebd1989c3139da/en-US~JOINT_ACCOUNT/602ba55abb1e6d0fbce92065.wav',\n",
       "  'array': array([ 1.70562416e-05,  2.18727451e-04,  2.28099874e-04, ...,\n",
       "          3.43842403e-05, -5.96364771e-06, -1.76846661e-05]),\n",
       "  'sampling_rate': 16000},\n",
       " {'path': '/home/nick/.cache/huggingface/datasets/downloads/extracted/ded84bbb939d89ec93cc76025c236988a3230491b05beac5f7ebd1989c3139da/en-US~JOINT_ACCOUNT/602baf24bb1e6d0fbce922a7.wav',\n",
       "  'array': array([-1.40285119e-05,  1.31274341e-04,  2.59695575e-04, ...,\n",
       "          1.30564310e-02,  1.11398110e-02,  5.69025241e-03]),\n",
       "  'sampling_rate': 16000},\n",
       " {'path': '/home/nick/.cache/huggingface/datasets/downloads/extracted/ded84bbb939d89ec93cc76025c236988a3230491b05beac5f7ebd1989c3139da/en-US~JOINT_ACCOUNT/602b9f97963e11ccd901cc32.wav',\n",
       "  'array': array([-2.16008630e-06,  1.90037536e-05,  3.14362114e-06, ...,\n",
       "          8.02096620e-04,  9.22182924e-04,  5.89025032e-04]),\n",
       "  'sampling_rate': 16000},\n",
       " {'path': '/home/nick/.cache/huggingface/datasets/downloads/extracted/ded84bbb939d89ec93cc76025c236988a3230491b05beac5f7ebd1989c3139da/en-US~JOINT_ACCOUNT/602bacab5f67b421554f6488.wav',\n",
       "  'array': array([ 2.22060946e-04,  1.51066808e-04,  2.29590805e-05, ...,\n",
       "         -1.76095316e-04, -2.53347447e-04, -1.42837933e-04]),\n",
       "  'sampling_rate': 16000}]"
      ]
     },
     "execution_count": 13,
     "metadata": {},
     "output_type": "execute_result"
    }
   ],
   "source": [
    "dataset[:4][\"audio\"]"
   ]
  },
  {
   "cell_type": "code",
   "execution_count": 12,
   "id": "eda37b7d-f1f8-4671-a1cf-f64150a0f68b",
   "metadata": {},
   "outputs": [
    {
     "name": "stdout",
     "output_type": "stream",
     "text": [
      "['I WOULD LIKE TO SET UP A JOINT ACCOUNT WITH MY PARTNER HOW DO I PROCEED WITH DOING THAT', \"FONDERING HOW I'D SET UP A JOIN TO HELL T WITH MY WIFE AND WHERE THE AP MIGHT BE\", \"I I'D LIKE TOY SET UP A JOINT ACCOUNT WITH MY PARTNER I'M NOT SEEING THE OPTION TO DO IT ON THE APSO I CALLED IN TO GET SOME HELP CAN I JUST DO IT OVER THE PHONE WITH YOU AND GIVE YOU THE INFORMATION OR SHOULD I DO IT IN THE AP AN I'M MISSING SOMETHING UQUETTE HAD PREFERRED TO JUST DO IT OVER THE PHONE OF POSSIBLE THINGS\", 'HOW DO I FURN A JOINA COUT']\n"
     ]
    }
   ],
   "source": [
    "result = speech_recognizer(dataset[:4][\"audio\"])\n",
    "print([d[\"text\"] for d in result])"
   ]
  }
 ],
 "metadata": {
  "kernelspec": {
   "display_name": "Python 3 (ipykernel)",
   "language": "python",
   "name": "python3"
  },
  "language_info": {
   "codemirror_mode": {
    "name": "ipython",
    "version": 3
   },
   "file_extension": ".py",
   "mimetype": "text/x-python",
   "name": "python",
   "nbconvert_exporter": "python",
   "pygments_lexer": "ipython3",
   "version": "3.10.12"
  }
 },
 "nbformat": 4,
 "nbformat_minor": 5
}
